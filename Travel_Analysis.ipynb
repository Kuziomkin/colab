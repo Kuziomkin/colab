{
  "nbformat": 4,
  "nbformat_minor": 0,
  "metadata": {
    "colab": {
      "provenance": [],
      "authorship_tag": "ABX9TyNzBkjFdUWdLlSyUuNAiZjg",
      "include_colab_link": true
    },
    "kernelspec": {
      "name": "python3",
      "display_name": "Python 3"
    },
    "language_info": {
      "name": "python"
    }
  },
  "cells": [
    {
      "cell_type": "markdown",
      "metadata": {
        "id": "view-in-github",
        "colab_type": "text"
      },
      "source": [
        "<a href=\"https://colab.research.google.com/github/Kuziomkin/colab/blob/main/Travel_Analysis.ipynb\" target=\"_parent\"><img src=\"https://colab.research.google.com/assets/colab-badge.svg\" alt=\"Open In Colab\"/></a>"
      ]
    },
    {
      "cell_type": "code",
      "source": [
        "import duckdb"
      ],
      "metadata": {
        "id": "nRNbhvl6VBJV"
      },
      "execution_count": 1,
      "outputs": []
    },
    {
      "cell_type": "code",
      "execution_count": 2,
      "metadata": {
        "colab": {
          "base_uri": "https://localhost:8080/"
        },
        "id": "q00eGJiKU2kQ",
        "outputId": "1fdd16a0-e1be-4b1e-86e1-48b5d3f78e4a"
      },
      "outputs": [
        {
          "output_type": "stream",
          "name": "stdout",
          "text": [
            "\u001b[?25l   \u001b[90m━━━━━━━━━━━━━━━━━━━━━━━━━━━━━━━━━━━━━━━━\u001b[0m \u001b[32m0.0/95.2 kB\u001b[0m \u001b[31m?\u001b[0m eta \u001b[36m-:--:--\u001b[0m\r\u001b[2K   \u001b[90m━━━━━━━━━━━━━━━━━━━━━━━━━━━━━━━━━━━━━━━━\u001b[0m \u001b[32m95.2/95.2 kB\u001b[0m \u001b[31m5.4 MB/s\u001b[0m eta \u001b[36m0:00:00\u001b[0m\n",
            "\u001b[?25h\u001b[?25l   \u001b[90m━━━━━━━━━━━━━━━━━━━━━━━━━━━━━━━━━━━━━━━━\u001b[0m \u001b[32m0.0/49.6 kB\u001b[0m \u001b[31m?\u001b[0m eta \u001b[36m-:--:--\u001b[0m\r\u001b[2K   \u001b[90m━━━━━━━━━━━━━━━━━━━━━━━━━━━━━━━━━━━━━━━━\u001b[0m \u001b[32m49.6/49.6 kB\u001b[0m \u001b[31m3.5 MB/s\u001b[0m eta \u001b[36m0:00:00\u001b[0m\n",
            "\u001b[?25h\u001b[?25l   \u001b[90m━━━━━━━━━━━━━━━━━━━━━━━━━━━━━━━━━━━━━━━━\u001b[0m \u001b[32m0.0/192.8 kB\u001b[0m \u001b[31m?\u001b[0m eta \u001b[36m-:--:--\u001b[0m\r\u001b[2K   \u001b[90m━━━━━━━━━━━━━━━━━━━━━━━━━━━━━━━━━━━━━━━━\u001b[0m \u001b[32m192.8/192.8 kB\u001b[0m \u001b[31m10.1 MB/s\u001b[0m eta \u001b[36m0:00:00\u001b[0m\n",
            "\u001b[?25h\u001b[?25l   \u001b[90m━━━━━━━━━━━━━━━━━━━━━━━━━━━━━━━━━━━━━━━━\u001b[0m \u001b[32m0.0/72.0 kB\u001b[0m \u001b[31m?\u001b[0m eta \u001b[36m-:--:--\u001b[0m\r\u001b[2K   \u001b[90m━━━━━━━━━━━━━━━━━━━━━━━━━━━━━━━━━━━━━━━━\u001b[0m \u001b[32m72.0/72.0 kB\u001b[0m \u001b[31m5.4 MB/s\u001b[0m eta \u001b[36m0:00:00\u001b[0m\n",
            "\u001b[?25h"
          ]
        }
      ],
      "source": [
        "%pip install jupysql duckdb-engine --quiet"
      ]
    },
    {
      "cell_type": "code",
      "source": [
        "%load_ext sql\n",
        "conn = duckdb.connect()\n",
        "%sql conn --alias duckdb"
      ],
      "metadata": {
        "id": "lMsXIP8tVCjD"
      },
      "execution_count": 3,
      "outputs": []
    },
    {
      "cell_type": "code",
      "source": [
        "%%sql\n",
        "\n",
        "SELECT *\n",
        "FROM\n",
        "  'https://raw.githubusercontent.com/Kuziomkin/open_data/refs/heads/main/Tourist_Travel_Europe.csv'"
      ],
      "metadata": {
        "colab": {
          "base_uri": "https://localhost:8080/",
          "height": 309
        },
        "id": "orePcrAbVG_n",
        "outputId": "119df7a9-4a27-43b9-9964-c1fd0ce14af0"
      },
      "execution_count": 28,
      "outputs": [
        {
          "output_type": "display_data",
          "data": {
            "text/plain": [
              "Running query in 'duckdb'"
            ],
            "text/html": [
              "<span style=\"None\">Running query in &#x27;duckdb&#x27;</span>"
            ]
          },
          "metadata": {}
        },
        {
          "output_type": "execute_result",
          "data": {
            "text/plain": [
              "+------------+-----------------+--------------+----------------+----------------------+----------------------+-------------------+--------------------+--------------+-----------------+\n",
              "| Tourist_ID | Country_Visited | City_Visited | Mode_of_Travel | Travel_Duration_Days | Number_of_Companions | Total_Travel_Cost | Accommodation_Type | Main_Purpose | Season_of_Visit |\n",
              "+------------+-----------------+--------------+----------------+----------------------+----------------------+-------------------+--------------------+--------------+-----------------+\n",
              "|     1      |     Germany     |   Hamburg    |     Flight     |          8           |          4           |        1060       |       Hotel        | Family Visit |      Summer     |\n",
              "|     2      |     Germany     |    Berlin    |      Car       |          16          |          3           |        3972       |       Hostel       | Family Visit |      Winter     |\n",
              "|     3      |        UK       |  Manchester  |    Bicycle     |          8           |          2           |        666        |      Camping       |   Business   |      Winter     |\n",
              "|     4      |      Greece     | Thessaloniki |    Bicycle     |          12          |          3           |        3644       |       Hotel        |   Business   |      Summer     |\n",
              "|     5      |      Greece     | Thessaloniki |     Flight     |          5           |          3           |        1885       |       Airbnb       |   Leisure    |      Spring     |\n",
              "|     6      |      Greece     |    Athens    |    Bicycle     |          3           |          4           |        2633       |       Hostel       | Family Visit |      Summer     |\n",
              "|     7      |     Portugal    |    Lisbon    |      Bus       |          2           |          4           |        3585       |       Hostel       |   Leisure    |      Winter     |\n",
              "|     8      |      Greece     |    Athens    |     Train      |          13          |          1           |        674        |      Camping       |   Leisure    |      Winter     |\n",
              "|     9      |     Portugal    |     Faro     |      Bus       |          11          |          4           |        2947       |      Camping       |   Leisure    |      Winter     |\n",
              "|     10     |        UK       |  Manchester  |     Flight     |          17          |          3           |        2099       |       Hostel       |   Business   |      Summer     |\n",
              "+------------+-----------------+--------------+----------------+----------------------+----------------------+-------------------+--------------------+--------------+-----------------+\n",
              "Truncated to displaylimit of 10."
            ],
            "text/html": [
              "<table>\n",
              "    <thead>\n",
              "        <tr>\n",
              "            <th>Tourist_ID</th>\n",
              "            <th>Country_Visited</th>\n",
              "            <th>City_Visited</th>\n",
              "            <th>Mode_of_Travel</th>\n",
              "            <th>Travel_Duration_Days</th>\n",
              "            <th>Number_of_Companions</th>\n",
              "            <th>Total_Travel_Cost</th>\n",
              "            <th>Accommodation_Type</th>\n",
              "            <th>Main_Purpose</th>\n",
              "            <th>Season_of_Visit</th>\n",
              "        </tr>\n",
              "    </thead>\n",
              "    <tbody>\n",
              "        <tr>\n",
              "            <td>1</td>\n",
              "            <td>Germany</td>\n",
              "            <td>Hamburg</td>\n",
              "            <td>Flight</td>\n",
              "            <td>8</td>\n",
              "            <td>4</td>\n",
              "            <td>1060</td>\n",
              "            <td>Hotel</td>\n",
              "            <td>Family Visit</td>\n",
              "            <td>Summer</td>\n",
              "        </tr>\n",
              "        <tr>\n",
              "            <td>2</td>\n",
              "            <td>Germany</td>\n",
              "            <td>Berlin</td>\n",
              "            <td>Car</td>\n",
              "            <td>16</td>\n",
              "            <td>3</td>\n",
              "            <td>3972</td>\n",
              "            <td>Hostel</td>\n",
              "            <td>Family Visit</td>\n",
              "            <td>Winter</td>\n",
              "        </tr>\n",
              "        <tr>\n",
              "            <td>3</td>\n",
              "            <td>UK</td>\n",
              "            <td>Manchester</td>\n",
              "            <td>Bicycle</td>\n",
              "            <td>8</td>\n",
              "            <td>2</td>\n",
              "            <td>666</td>\n",
              "            <td>Camping</td>\n",
              "            <td>Business</td>\n",
              "            <td>Winter</td>\n",
              "        </tr>\n",
              "        <tr>\n",
              "            <td>4</td>\n",
              "            <td>Greece</td>\n",
              "            <td>Thessaloniki</td>\n",
              "            <td>Bicycle</td>\n",
              "            <td>12</td>\n",
              "            <td>3</td>\n",
              "            <td>3644</td>\n",
              "            <td>Hotel</td>\n",
              "            <td>Business</td>\n",
              "            <td>Summer</td>\n",
              "        </tr>\n",
              "        <tr>\n",
              "            <td>5</td>\n",
              "            <td>Greece</td>\n",
              "            <td>Thessaloniki</td>\n",
              "            <td>Flight</td>\n",
              "            <td>5</td>\n",
              "            <td>3</td>\n",
              "            <td>1885</td>\n",
              "            <td>Airbnb</td>\n",
              "            <td>Leisure</td>\n",
              "            <td>Spring</td>\n",
              "        </tr>\n",
              "        <tr>\n",
              "            <td>6</td>\n",
              "            <td>Greece</td>\n",
              "            <td>Athens</td>\n",
              "            <td>Bicycle</td>\n",
              "            <td>3</td>\n",
              "            <td>4</td>\n",
              "            <td>2633</td>\n",
              "            <td>Hostel</td>\n",
              "            <td>Family Visit</td>\n",
              "            <td>Summer</td>\n",
              "        </tr>\n",
              "        <tr>\n",
              "            <td>7</td>\n",
              "            <td>Portugal</td>\n",
              "            <td>Lisbon</td>\n",
              "            <td>Bus</td>\n",
              "            <td>2</td>\n",
              "            <td>4</td>\n",
              "            <td>3585</td>\n",
              "            <td>Hostel</td>\n",
              "            <td>Leisure</td>\n",
              "            <td>Winter</td>\n",
              "        </tr>\n",
              "        <tr>\n",
              "            <td>8</td>\n",
              "            <td>Greece</td>\n",
              "            <td>Athens</td>\n",
              "            <td>Train</td>\n",
              "            <td>13</td>\n",
              "            <td>1</td>\n",
              "            <td>674</td>\n",
              "            <td>Camping</td>\n",
              "            <td>Leisure</td>\n",
              "            <td>Winter</td>\n",
              "        </tr>\n",
              "        <tr>\n",
              "            <td>9</td>\n",
              "            <td>Portugal</td>\n",
              "            <td>Faro</td>\n",
              "            <td>Bus</td>\n",
              "            <td>11</td>\n",
              "            <td>4</td>\n",
              "            <td>2947</td>\n",
              "            <td>Camping</td>\n",
              "            <td>Leisure</td>\n",
              "            <td>Winter</td>\n",
              "        </tr>\n",
              "        <tr>\n",
              "            <td>10</td>\n",
              "            <td>UK</td>\n",
              "            <td>Manchester</td>\n",
              "            <td>Flight</td>\n",
              "            <td>17</td>\n",
              "            <td>3</td>\n",
              "            <td>2099</td>\n",
              "            <td>Hostel</td>\n",
              "            <td>Business</td>\n",
              "            <td>Summer</td>\n",
              "        </tr>\n",
              "    </tbody>\n",
              "</table>\n",
              "<span style=\"font-style:italic;text-align:center;\">Truncated to <a href=\"https://jupysql.ploomber.io/en/latest/api/configuration.html#displaylimit\">displaylimit</a> of 10.</span>"
            ]
          },
          "metadata": {},
          "execution_count": 28
        }
      ]
    },
    {
      "cell_type": "code",
      "source": [
        "%%sql\n",
        "\n",
        "CREATE OR REPLACE TABLE tourist_travel_europe AS\n",
        "SELECT *\n",
        "FROM\n",
        "  'https://raw.githubusercontent.com/Kuziomkin/open_data/refs/heads/main/Tourist_Travel_Europe.csv'\n"
      ],
      "metadata": {
        "colab": {
          "base_uri": "https://localhost:8080/",
          "height": 79
        },
        "id": "qci_M0NYbf0J",
        "outputId": "277572b3-7489-416f-e722-57cf9e8e2bcd"
      },
      "execution_count": 21,
      "outputs": [
        {
          "output_type": "display_data",
          "data": {
            "text/plain": [
              "Running query in 'duckdb'"
            ],
            "text/html": [
              "<span style=\"None\">Running query in &#x27;duckdb&#x27;</span>"
            ]
          },
          "metadata": {}
        },
        {
          "output_type": "execute_result",
          "data": {
            "text/plain": [
              "+-------+\n",
              "| Count |\n",
              "+-------+\n",
              "|  1000 |\n",
              "+-------+"
            ],
            "text/html": [
              "<table>\n",
              "    <thead>\n",
              "        <tr>\n",
              "            <th>Count</th>\n",
              "        </tr>\n",
              "    </thead>\n",
              "    <tbody>\n",
              "        <tr>\n",
              "            <td>1000</td>\n",
              "        </tr>\n",
              "    </tbody>\n",
              "</table>"
            ]
          },
          "metadata": {},
          "execution_count": 21
        }
      ]
    },
    {
      "cell_type": "code",
      "source": [
        "%%sql\n",
        "\n",
        "DESCRIBE tourist_travel_europe"
      ],
      "metadata": {
        "colab": {
          "base_uri": "https://localhost:8080/",
          "height": 289
        },
        "id": "eDmQDs9IcSRN",
        "outputId": "df85eb2d-dfb5-48f7-e3c5-87124dc4df82"
      },
      "execution_count": 29,
      "outputs": [
        {
          "output_type": "display_data",
          "data": {
            "text/plain": [
              "Running query in 'duckdb'"
            ],
            "text/html": [
              "<span style=\"None\">Running query in &#x27;duckdb&#x27;</span>"
            ]
          },
          "metadata": {}
        },
        {
          "output_type": "execute_result",
          "data": {
            "text/plain": [
              "+----------------------+-------------+------+------+---------+-------+\n",
              "|     column_name      | column_type | null | key  | default | extra |\n",
              "+----------------------+-------------+------+------+---------+-------+\n",
              "|      Tourist_ID      |    BIGINT   | YES  | None |   None  |  None |\n",
              "|   Country_Visited    |   VARCHAR   | YES  | None |   None  |  None |\n",
              "|     City_Visited     |   VARCHAR   | YES  | None |   None  |  None |\n",
              "|    Mode_of_Travel    |   VARCHAR   | YES  | None |   None  |  None |\n",
              "| Travel_Duration_Days |    BIGINT   | YES  | None |   None  |  None |\n",
              "| Number_of_Companions |    BIGINT   | YES  | None |   None  |  None |\n",
              "|  Total_Travel_Cost   |    BIGINT   | YES  | None |   None  |  None |\n",
              "|  Accommodation_Type  |   VARCHAR   | YES  | None |   None  |  None |\n",
              "|     Main_Purpose     |   VARCHAR   | YES  | None |   None  |  None |\n",
              "|   Season_of_Visit    |   VARCHAR   | YES  | None |   None  |  None |\n",
              "+----------------------+-------------+------+------+---------+-------+\n",
              "Truncated to displaylimit of 10."
            ],
            "text/html": [
              "<table>\n",
              "    <thead>\n",
              "        <tr>\n",
              "            <th>column_name</th>\n",
              "            <th>column_type</th>\n",
              "            <th>null</th>\n",
              "            <th>key</th>\n",
              "            <th>default</th>\n",
              "            <th>extra</th>\n",
              "        </tr>\n",
              "    </thead>\n",
              "    <tbody>\n",
              "        <tr>\n",
              "            <td>Tourist_ID</td>\n",
              "            <td>BIGINT</td>\n",
              "            <td>YES</td>\n",
              "            <td>None</td>\n",
              "            <td>None</td>\n",
              "            <td>None</td>\n",
              "        </tr>\n",
              "        <tr>\n",
              "            <td>Country_Visited</td>\n",
              "            <td>VARCHAR</td>\n",
              "            <td>YES</td>\n",
              "            <td>None</td>\n",
              "            <td>None</td>\n",
              "            <td>None</td>\n",
              "        </tr>\n",
              "        <tr>\n",
              "            <td>City_Visited</td>\n",
              "            <td>VARCHAR</td>\n",
              "            <td>YES</td>\n",
              "            <td>None</td>\n",
              "            <td>None</td>\n",
              "            <td>None</td>\n",
              "        </tr>\n",
              "        <tr>\n",
              "            <td>Mode_of_Travel</td>\n",
              "            <td>VARCHAR</td>\n",
              "            <td>YES</td>\n",
              "            <td>None</td>\n",
              "            <td>None</td>\n",
              "            <td>None</td>\n",
              "        </tr>\n",
              "        <tr>\n",
              "            <td>Travel_Duration_Days</td>\n",
              "            <td>BIGINT</td>\n",
              "            <td>YES</td>\n",
              "            <td>None</td>\n",
              "            <td>None</td>\n",
              "            <td>None</td>\n",
              "        </tr>\n",
              "        <tr>\n",
              "            <td>Number_of_Companions</td>\n",
              "            <td>BIGINT</td>\n",
              "            <td>YES</td>\n",
              "            <td>None</td>\n",
              "            <td>None</td>\n",
              "            <td>None</td>\n",
              "        </tr>\n",
              "        <tr>\n",
              "            <td>Total_Travel_Cost</td>\n",
              "            <td>BIGINT</td>\n",
              "            <td>YES</td>\n",
              "            <td>None</td>\n",
              "            <td>None</td>\n",
              "            <td>None</td>\n",
              "        </tr>\n",
              "        <tr>\n",
              "            <td>Accommodation_Type</td>\n",
              "            <td>VARCHAR</td>\n",
              "            <td>YES</td>\n",
              "            <td>None</td>\n",
              "            <td>None</td>\n",
              "            <td>None</td>\n",
              "        </tr>\n",
              "        <tr>\n",
              "            <td>Main_Purpose</td>\n",
              "            <td>VARCHAR</td>\n",
              "            <td>YES</td>\n",
              "            <td>None</td>\n",
              "            <td>None</td>\n",
              "            <td>None</td>\n",
              "        </tr>\n",
              "        <tr>\n",
              "            <td>Season_of_Visit</td>\n",
              "            <td>VARCHAR</td>\n",
              "            <td>YES</td>\n",
              "            <td>None</td>\n",
              "            <td>None</td>\n",
              "            <td>None</td>\n",
              "        </tr>\n",
              "    </tbody>\n",
              "</table>\n",
              "<span style=\"font-style:italic;text-align:center;\">Truncated to <a href=\"https://jupysql.ploomber.io/en/latest/api/configuration.html#displaylimit\">displaylimit</a> of 10.</span>"
            ]
          },
          "metadata": {},
          "execution_count": 29
        }
      ]
    },
    {
      "cell_type": "code",
      "source": [
        "%%sql\n",
        "\n",
        "SUMMARIZE tourist_travel_europe"
      ],
      "metadata": {
        "colab": {
          "base_uri": "https://localhost:8080/",
          "height": 271
        },
        "id": "O12p0o9aVyp7",
        "outputId": "1525c9ed-9643-4b74-e3e4-adc87a0f66f3"
      },
      "execution_count": 25,
      "outputs": [
        {
          "output_type": "display_data",
          "data": {
            "text/plain": [
              "Running query in 'duckdb'"
            ],
            "text/html": [
              "<span style=\"None\">Running query in &#x27;duckdb&#x27;</span>"
            ]
          },
          "metadata": {}
        },
        {
          "output_type": "execute_result",
          "data": {
            "text/plain": [
              "+----------------------+-------------+-----------+---------+---------------+----------+--------------------+------+------+------+-------+-----------------+\n",
              "|     column_name      | column_type |    min    |   max   | approx_unique |   avg    |        std         | q25  | q50  | q75  | count | null_percentage |\n",
              "+----------------------+-------------+-----------+---------+---------------+----------+--------------------+------+------+------+-------+-----------------+\n",
              "|      Tourist_ID      |    BIGINT   |     1     |   1000  |      1232     |  500.5   | 288.8194360957494  | 250  | 500  | 750  |  1000 |       0.00      |\n",
              "|   Country_Visited    |   VARCHAR   |  Austria  |    UK   |       9       |   None   |        None        | None | None | None |  1000 |       0.00      |\n",
              "|     City_Visited     |   VARCHAR   | Amsterdam |  Zurich |       28      |   None   |        None        | None | None | None |  1000 |       0.00      |\n",
              "|    Mode_of_Travel    |   VARCHAR   |  Bicycle  |  Train  |       5       |   None   |        None        | None | None | None |  1000 |       0.00      |\n",
              "| Travel_Duration_Days |    BIGINT   |     2     |    20   |       20      |  10.82   | 5.489784853501794  |  6   |  11  |  16  |  1000 |       0.00      |\n",
              "| Number_of_Companions |    BIGINT   |     1     |    5    |       5       |  2.983   | 1.4285488272200397 |  2   |  3   |  4   |  1000 |       0.00      |\n",
              "|  Total_Travel_Cost   |    BIGINT   |    201    |   4999  |      964      | 2600.376 | 1393.3948147362012 | 1359 | 2596 | 3847 |  1000 |       0.00      |\n",
              "|  Accommodation_Type  |   VARCHAR   |   Airbnb  |  Hotel  |       3       |   None   |        None        | None | None | None |  1000 |       0.00      |\n",
              "|     Main_Purpose     |   VARCHAR   |  Business | Leisure |       3       |   None   |        None        | None | None | None |  1000 |       0.00      |\n",
              "|   Season_of_Visit    |   VARCHAR   |    Fall   |  Winter |       4       |   None   |        None        | None | None | None |  1000 |       0.00      |\n",
              "+----------------------+-------------+-----------+---------+---------------+----------+--------------------+------+------+------+-------+-----------------+"
            ],
            "text/html": [
              "<table>\n",
              "    <thead>\n",
              "        <tr>\n",
              "            <th>column_name</th>\n",
              "            <th>column_type</th>\n",
              "            <th>min</th>\n",
              "            <th>max</th>\n",
              "            <th>approx_unique</th>\n",
              "            <th>avg</th>\n",
              "            <th>std</th>\n",
              "            <th>q25</th>\n",
              "            <th>q50</th>\n",
              "            <th>q75</th>\n",
              "            <th>count</th>\n",
              "            <th>null_percentage</th>\n",
              "        </tr>\n",
              "    </thead>\n",
              "    <tbody>\n",
              "        <tr>\n",
              "            <td>Tourist_ID</td>\n",
              "            <td>BIGINT</td>\n",
              "            <td>1</td>\n",
              "            <td>1000</td>\n",
              "            <td>1232</td>\n",
              "            <td>500.5</td>\n",
              "            <td>288.8194360957494</td>\n",
              "            <td>250</td>\n",
              "            <td>500</td>\n",
              "            <td>750</td>\n",
              "            <td>1000</td>\n",
              "            <td>0.00</td>\n",
              "        </tr>\n",
              "        <tr>\n",
              "            <td>Country_Visited</td>\n",
              "            <td>VARCHAR</td>\n",
              "            <td>Austria</td>\n",
              "            <td>UK</td>\n",
              "            <td>9</td>\n",
              "            <td>None</td>\n",
              "            <td>None</td>\n",
              "            <td>None</td>\n",
              "            <td>None</td>\n",
              "            <td>None</td>\n",
              "            <td>1000</td>\n",
              "            <td>0.00</td>\n",
              "        </tr>\n",
              "        <tr>\n",
              "            <td>City_Visited</td>\n",
              "            <td>VARCHAR</td>\n",
              "            <td>Amsterdam</td>\n",
              "            <td>Zurich</td>\n",
              "            <td>28</td>\n",
              "            <td>None</td>\n",
              "            <td>None</td>\n",
              "            <td>None</td>\n",
              "            <td>None</td>\n",
              "            <td>None</td>\n",
              "            <td>1000</td>\n",
              "            <td>0.00</td>\n",
              "        </tr>\n",
              "        <tr>\n",
              "            <td>Mode_of_Travel</td>\n",
              "            <td>VARCHAR</td>\n",
              "            <td>Bicycle</td>\n",
              "            <td>Train</td>\n",
              "            <td>5</td>\n",
              "            <td>None</td>\n",
              "            <td>None</td>\n",
              "            <td>None</td>\n",
              "            <td>None</td>\n",
              "            <td>None</td>\n",
              "            <td>1000</td>\n",
              "            <td>0.00</td>\n",
              "        </tr>\n",
              "        <tr>\n",
              "            <td>Travel_Duration_Days</td>\n",
              "            <td>BIGINT</td>\n",
              "            <td>2</td>\n",
              "            <td>20</td>\n",
              "            <td>20</td>\n",
              "            <td>10.82</td>\n",
              "            <td>5.489784853501794</td>\n",
              "            <td>6</td>\n",
              "            <td>11</td>\n",
              "            <td>16</td>\n",
              "            <td>1000</td>\n",
              "            <td>0.00</td>\n",
              "        </tr>\n",
              "        <tr>\n",
              "            <td>Number_of_Companions</td>\n",
              "            <td>BIGINT</td>\n",
              "            <td>1</td>\n",
              "            <td>5</td>\n",
              "            <td>5</td>\n",
              "            <td>2.983</td>\n",
              "            <td>1.4285488272200397</td>\n",
              "            <td>2</td>\n",
              "            <td>3</td>\n",
              "            <td>4</td>\n",
              "            <td>1000</td>\n",
              "            <td>0.00</td>\n",
              "        </tr>\n",
              "        <tr>\n",
              "            <td>Total_Travel_Cost</td>\n",
              "            <td>BIGINT</td>\n",
              "            <td>201</td>\n",
              "            <td>4999</td>\n",
              "            <td>964</td>\n",
              "            <td>2600.376</td>\n",
              "            <td>1393.3948147362012</td>\n",
              "            <td>1359</td>\n",
              "            <td>2596</td>\n",
              "            <td>3847</td>\n",
              "            <td>1000</td>\n",
              "            <td>0.00</td>\n",
              "        </tr>\n",
              "        <tr>\n",
              "            <td>Accommodation_Type</td>\n",
              "            <td>VARCHAR</td>\n",
              "            <td>Airbnb</td>\n",
              "            <td>Hotel</td>\n",
              "            <td>3</td>\n",
              "            <td>None</td>\n",
              "            <td>None</td>\n",
              "            <td>None</td>\n",
              "            <td>None</td>\n",
              "            <td>None</td>\n",
              "            <td>1000</td>\n",
              "            <td>0.00</td>\n",
              "        </tr>\n",
              "        <tr>\n",
              "            <td>Main_Purpose</td>\n",
              "            <td>VARCHAR</td>\n",
              "            <td>Business</td>\n",
              "            <td>Leisure</td>\n",
              "            <td>3</td>\n",
              "            <td>None</td>\n",
              "            <td>None</td>\n",
              "            <td>None</td>\n",
              "            <td>None</td>\n",
              "            <td>None</td>\n",
              "            <td>1000</td>\n",
              "            <td>0.00</td>\n",
              "        </tr>\n",
              "        <tr>\n",
              "            <td>Season_of_Visit</td>\n",
              "            <td>VARCHAR</td>\n",
              "            <td>Fall</td>\n",
              "            <td>Winter</td>\n",
              "            <td>4</td>\n",
              "            <td>None</td>\n",
              "            <td>None</td>\n",
              "            <td>None</td>\n",
              "            <td>None</td>\n",
              "            <td>None</td>\n",
              "            <td>1000</td>\n",
              "            <td>0.00</td>\n",
              "        </tr>\n",
              "    </tbody>\n",
              "</table>"
            ]
          },
          "metadata": {},
          "execution_count": 25
        }
      ]
    },
    {
      "cell_type": "code",
      "source": [
        "%%sql\n",
        "\n",
        "PIVOT tourist_travel_europe\n",
        "ON\n",
        "  Main_Purpose\n",
        "USING count(*)\n",
        "GROUP BY\n",
        "  Country_Visited\n",
        "  , Season_of_Visit\n",
        "  , Mode_of_Travel\n",
        "ORDER BY\n",
        "  Business DESC"
      ],
      "metadata": {
        "colab": {
          "base_uri": "https://localhost:8080/",
          "height": 289
        },
        "id": "Pth9SpjqWUsh",
        "outputId": "6053b965-326e-47ab-c301-d61169ded5d8"
      },
      "execution_count": 23,
      "outputs": [
        {
          "output_type": "display_data",
          "data": {
            "text/plain": [
              "Running query in 'duckdb'"
            ],
            "text/html": [
              "<span style=\"None\">Running query in &#x27;duckdb&#x27;</span>"
            ]
          },
          "metadata": {}
        },
        {
          "output_type": "execute_result",
          "data": {
            "text/plain": [
              "+-----------------+-----------------+----------------+----------+--------------+---------+\n",
              "| Country_Visited | Season_of_Visit | Mode_of_Travel | Business | Family Visit | Leisure |\n",
              "+-----------------+-----------------+----------------+----------+--------------+---------+\n",
              "|     Austria     |      Summer     |      Bus       |    6     |      3       |    1    |\n",
              "|      Greece     |      Summer     |    Bicycle     |    5     |      2       |    3    |\n",
              "|   Netherlands   |       Fall      |     Flight     |    5     |      2       |    3    |\n",
              "|   Netherlands   |      Spring     |     Flight     |    5     |      0       |    2    |\n",
              "|      Italy      |      Winter     |     Flight     |    5     |      5       |    4    |\n",
              "|      Spain      |      Winter     |      Bus       |    5     |      3       |    1    |\n",
              "|     Portugal    |      Summer     |     Flight     |    5     |      1       |    0    |\n",
              "|     Portugal    |       Fall      |      Bus       |    5     |      1       |    2    |\n",
              "|      Greece     |      Spring     |      Car       |    4     |      2       |    2    |\n",
              "|      Greece     |       Fall      |    Bicycle     |    4     |      4       |    1    |\n",
              "+-----------------+-----------------+----------------+----------+--------------+---------+\n",
              "Truncated to displaylimit of 10."
            ],
            "text/html": [
              "<table>\n",
              "    <thead>\n",
              "        <tr>\n",
              "            <th>Country_Visited</th>\n",
              "            <th>Season_of_Visit</th>\n",
              "            <th>Mode_of_Travel</th>\n",
              "            <th>Business</th>\n",
              "            <th>Family Visit</th>\n",
              "            <th>Leisure</th>\n",
              "        </tr>\n",
              "    </thead>\n",
              "    <tbody>\n",
              "        <tr>\n",
              "            <td>Austria</td>\n",
              "            <td>Summer</td>\n",
              "            <td>Bus</td>\n",
              "            <td>6</td>\n",
              "            <td>3</td>\n",
              "            <td>1</td>\n",
              "        </tr>\n",
              "        <tr>\n",
              "            <td>Greece</td>\n",
              "            <td>Summer</td>\n",
              "            <td>Bicycle</td>\n",
              "            <td>5</td>\n",
              "            <td>2</td>\n",
              "            <td>3</td>\n",
              "        </tr>\n",
              "        <tr>\n",
              "            <td>Netherlands</td>\n",
              "            <td>Fall</td>\n",
              "            <td>Flight</td>\n",
              "            <td>5</td>\n",
              "            <td>2</td>\n",
              "            <td>3</td>\n",
              "        </tr>\n",
              "        <tr>\n",
              "            <td>Netherlands</td>\n",
              "            <td>Spring</td>\n",
              "            <td>Flight</td>\n",
              "            <td>5</td>\n",
              "            <td>0</td>\n",
              "            <td>2</td>\n",
              "        </tr>\n",
              "        <tr>\n",
              "            <td>Italy</td>\n",
              "            <td>Winter</td>\n",
              "            <td>Flight</td>\n",
              "            <td>5</td>\n",
              "            <td>5</td>\n",
              "            <td>4</td>\n",
              "        </tr>\n",
              "        <tr>\n",
              "            <td>Spain</td>\n",
              "            <td>Winter</td>\n",
              "            <td>Bus</td>\n",
              "            <td>5</td>\n",
              "            <td>3</td>\n",
              "            <td>1</td>\n",
              "        </tr>\n",
              "        <tr>\n",
              "            <td>Portugal</td>\n",
              "            <td>Summer</td>\n",
              "            <td>Flight</td>\n",
              "            <td>5</td>\n",
              "            <td>1</td>\n",
              "            <td>0</td>\n",
              "        </tr>\n",
              "        <tr>\n",
              "            <td>Portugal</td>\n",
              "            <td>Fall</td>\n",
              "            <td>Bus</td>\n",
              "            <td>5</td>\n",
              "            <td>1</td>\n",
              "            <td>2</td>\n",
              "        </tr>\n",
              "        <tr>\n",
              "            <td>Greece</td>\n",
              "            <td>Spring</td>\n",
              "            <td>Car</td>\n",
              "            <td>4</td>\n",
              "            <td>2</td>\n",
              "            <td>2</td>\n",
              "        </tr>\n",
              "        <tr>\n",
              "            <td>Greece</td>\n",
              "            <td>Fall</td>\n",
              "            <td>Bicycle</td>\n",
              "            <td>4</td>\n",
              "            <td>4</td>\n",
              "            <td>1</td>\n",
              "        </tr>\n",
              "    </tbody>\n",
              "</table>\n",
              "<span style=\"font-style:italic;text-align:center;\">Truncated to <a href=\"https://jupysql.ploomber.io/en/latest/api/configuration.html#displaylimit\">displaylimit</a> of 10.</span>"
            ]
          },
          "metadata": {},
          "execution_count": 23
        }
      ]
    },
    {
      "cell_type": "code",
      "source": [],
      "metadata": {
        "id": "I-POYvI6XDYH"
      },
      "execution_count": null,
      "outputs": []
    }
  ]
}